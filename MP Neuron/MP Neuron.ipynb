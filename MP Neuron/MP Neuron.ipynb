{
 "cells": [
  {
   "cell_type": "code",
   "execution_count": 1,
   "metadata": {
    "colab": {
     "base_uri": "https://localhost:8080/",
     "height": 0
    },
    "executionInfo": {
     "elapsed": 5,
     "status": "ok",
     "timestamp": 1680675311688,
     "user": {
      "displayName": "MAYUR PIMPUDE",
      "userId": "00121476714913678682"
     },
     "user_tz": -330
    },
    "id": "8KdCM9Oac9Qb",
    "outputId": "d941e6c7-6508-484c-ce80-97cd18776c0e"
   },
   "outputs": [
    {
     "name": "stdout",
     "output_type": "stream",
     "text": [
      "Input vector:[0 1 0], Weight vector:[1 1 1]\n"
     ]
    }
   ],
   "source": [
    "import numpy as np\n",
    "np.random.seed(seed=0)\n",
    "I = np.random.choice([0,1,0], 3)\n",
    "W = np.random.choice([-1,1,1], 3) \n",
    "print(f'Input vector:{I}, Weight vector:{W}')"
   ]
  },
  {
   "cell_type": "code",
   "execution_count": 2,
   "metadata": {
    "colab": {
     "base_uri": "https://localhost:8080/",
     "height": 0
    },
    "executionInfo": {
     "elapsed": 3,
     "status": "ok",
     "timestamp": 1680675311688,
     "user": {
      "displayName": "MAYUR PIMPUDE",
      "userId": "00121476714913678682"
     },
     "user_tz": -330
    },
    "id": "LC-5S29adNUl",
    "outputId": "a2bee140-2ece-47ae-ff25-ae9aa34d6598"
   },
   "outputs": [
    {
     "name": "stdout",
     "output_type": "stream",
     "text": [
      "Dot product: 1\n"
     ]
    }
   ],
   "source": [
    "dot = I @ W\n",
    "print(f'Dot product: {dot}')"
   ]
  },
  {
   "cell_type": "code",
   "execution_count": 3,
   "metadata": {
    "executionInfo": {
     "elapsed": 11,
     "status": "ok",
     "timestamp": 1680675313796,
     "user": {
      "displayName": "MAYUR PIMPUDE",
      "userId": "00121476714913678682"
     },
     "user_tz": -330
    },
    "id": "0Z_OUW8YdCy3"
   },
   "outputs": [],
   "source": [
    "def linear_threshold_gate(dot: int, T: float) -> int:\n",
    "    '''Returns the binary threshold output'''\n",
    "    if dot >= T:\n",
    "        return 1\n",
    "    else:\n",
    "        return 0"
   ]
  },
  {
   "cell_type": "code",
   "execution_count": 4,
   "metadata": {
    "colab": {
     "base_uri": "https://localhost:8080/",
     "height": 0
    },
    "executionInfo": {
     "elapsed": 9,
     "status": "ok",
     "timestamp": 1680675313796,
     "user": {
      "displayName": "MAYUR PIMPUDE",
      "userId": "00121476714913678682"
     },
     "user_tz": -330
    },
    "id": "1k9H5yqYdJG-",
    "outputId": "6bccc55c-f937-4a82-d0df-282eaf591c9f"
   },
   "outputs": [
    {
     "name": "stdout",
     "output_type": "stream",
     "text": [
      "Activation: 1\n"
     ]
    }
   ],
   "source": [
    "T = 1\n",
    "activation = linear_threshold_gate(dot, T)\n",
    "print(f'Activation: {activation}')"
   ]
  },
  {
   "cell_type": "code",
   "execution_count": 5,
   "metadata": {
    "colab": {
     "base_uri": "https://localhost:8080/",
     "height": 0
    },
    "executionInfo": {
     "elapsed": 3,
     "status": "ok",
     "timestamp": 1680675316525,
     "user": {
      "displayName": "MAYUR PIMPUDE",
      "userId": "00121476714913678682"
     },
     "user_tz": -330
    },
    "id": "Wn2jWLzLdLDF",
    "outputId": "eed6219d-7fc5-4e94-b53d-52eb69137c2c"
   },
   "outputs": [
    {
     "name": "stdout",
     "output_type": "stream",
     "text": [
      "Activation: 0\n"
     ]
    }
   ],
   "source": [
    "T = 3\n",
    "activation = linear_threshold_gate(dot, T)\n",
    "print(f'Activation: {activation}')"
   ]
  },
  {
   "cell_type": "code",
   "execution_count": 6,
   "metadata": {
    "colab": {
     "base_uri": "https://localhost:8080/"
    },
    "executionInfo": {
     "elapsed": 643,
     "status": "ok",
     "timestamp": 1680504314712,
     "user": {
      "displayName": "MAYUR PIMPUDE",
      "userId": "00121476714913678682"
     },
     "user_tz": -330
    },
    "id": "KSROxbuHdRbl",
    "outputId": "275874c3-19e3-426a-de28-595d53d802c6"
   },
   "outputs": [
    {
     "name": "stdout",
     "output_type": "stream",
     "text": [
      "input table:\n",
      "[[0 0 0]\n",
      " [0 0 1]\n",
      " [0 1 0]\n",
      " [0 1 1]\n",
      " [1 0 0]\n",
      " [1 0 1]\n",
      " [1 1 0]\n",
      " [1 1 1]]\n"
     ]
    }
   ],
   "source": [
    "input_table = np.array([\n",
    "    [0,0,0], \n",
    "    [0,0,1], \n",
    "    [0,1,0], \n",
    "    [0,1,1], \n",
    "    [1,0,0],\n",
    "    [1,0,1],\n",
    "    [1,1,0],\n",
    "    [1,1,1]\n",
    "])\n",
    "\n",
    "print(f'input table:\\n{input_table}')"
   ]
  },
  {
   "cell_type": "markdown",
   "metadata": {
    "id": "8tTDPC3WdPQV"
   },
   "source": [
    "# OR"
   ]
  },
  {
   "cell_type": "code",
   "execution_count": 7,
   "metadata": {
    "colab": {
     "base_uri": "https://localhost:8080/"
    },
    "executionInfo": {
     "elapsed": 1,
     "status": "ok",
     "timestamp": 1678336508837,
     "user": {
      "displayName": "MAYUR PIMPUDE",
      "userId": "00121476714913678682"
     },
     "user_tz": -330
    },
    "id": "Mt0jvzsudV9m",
    "outputId": "824f5648-51fe-4efe-e3a0-1b14cd562703"
   },
   "outputs": [
    {
     "name": "stdout",
     "output_type": "stream",
     "text": [
      "weights: [1 1 1]\n"
     ]
    }
   ],
   "source": [
    "weights = np.array([1,1,1])\n",
    "print(f'weights: {weights}')"
   ]
  },
  {
   "cell_type": "code",
   "execution_count": 8,
   "metadata": {
    "colab": {
     "base_uri": "https://localhost:8080/"
    },
    "executionInfo": {
     "elapsed": 2,
     "status": "ok",
     "timestamp": 1678336510441,
     "user": {
      "displayName": "MAYUR PIMPUDE",
      "userId": "00121476714913678682"
     },
     "user_tz": -330
    },
    "id": "xwz8ct1MdZZ-",
    "outputId": "1d38cc5c-f626-4222-e32b-50fbfa63a77a"
   },
   "outputs": [
    {
     "name": "stdout",
     "output_type": "stream",
     "text": [
      "Dot products: [0 1 1 2 1 2 2 3]\n"
     ]
    }
   ],
   "source": [
    "dot_products = input_table @ weights\n",
    "print(f'Dot products: {dot_products}')"
   ]
  },
  {
   "cell_type": "code",
   "execution_count": 9,
   "metadata": {
    "colab": {
     "base_uri": "https://localhost:8080/"
    },
    "executionInfo": {
     "elapsed": 4,
     "status": "ok",
     "timestamp": 1678336550656,
     "user": {
      "displayName": "MAYUR PIMPUDE",
      "userId": "00121476714913678682"
     },
     "user_tz": -330
    },
    "id": "ocs4101Wdcd-",
    "outputId": "5e351a67-48d0-49e2-9bea-52dd50de9cbb"
   },
   "outputs": [
    {
     "name": "stdout",
     "output_type": "stream",
     "text": [
      "Activation: 0\n",
      "Activation: 1\n",
      "Activation: 1\n",
      "Activation: 1\n",
      "Activation: 1\n",
      "Activation: 1\n",
      "Activation: 1\n",
      "Activation: 1\n"
     ]
    }
   ],
   "source": [
    "T = 1\n",
    "for i in range(0,8):\n",
    "    activation = linear_threshold_gate(dot_products[i], T)\n",
    "    print(f'Activation: {activation}')"
   ]
  },
  {
   "cell_type": "markdown",
   "metadata": {
    "id": "NDXIoEWMdx4E"
   },
   "source": [
    "# AND"
   ]
  },
  {
   "cell_type": "code",
   "execution_count": 10,
   "metadata": {
    "colab": {
     "base_uri": "https://localhost:8080/"
    },
    "executionInfo": {
     "elapsed": 923,
     "status": "ok",
     "timestamp": 1680504292359,
     "user": {
      "displayName": "MAYUR PIMPUDE",
      "userId": "00121476714913678682"
     },
     "user_tz": -330
    },
    "id": "j-R9Ayo53FrJ",
    "outputId": "8e1d66bf-ae3e-4d73-a989-9ca9dc7e7f3d"
   },
   "outputs": [
    {
     "name": "stdout",
     "output_type": "stream",
     "text": [
      "weights: [1 1 1]\n"
     ]
    }
   ],
   "source": [
    "weights = np.array([1,1,1])\n",
    "print(f'weights: {weights}')"
   ]
  },
  {
   "cell_type": "code",
   "execution_count": 11,
   "metadata": {
    "colab": {
     "base_uri": "https://localhost:8080/"
    },
    "executionInfo": {
     "elapsed": 6,
     "status": "ok",
     "timestamp": 1680504319807,
     "user": {
      "displayName": "MAYUR PIMPUDE",
      "userId": "00121476714913678682"
     },
     "user_tz": -330
    },
    "id": "_KG42I-83D11",
    "outputId": "d1a2f80a-fb98-453f-b23a-4f902569218d"
   },
   "outputs": [
    {
     "name": "stdout",
     "output_type": "stream",
     "text": [
      "Dot products: [0 1 1 2 1 2 2 3]\n"
     ]
    }
   ],
   "source": [
    "dot_products = input_table @ weights\n",
    "print(f'Dot products: {dot_products}')"
   ]
  },
  {
   "cell_type": "code",
   "execution_count": 12,
   "metadata": {
    "colab": {
     "base_uri": "https://localhost:8080/"
    },
    "executionInfo": {
     "elapsed": 8,
     "status": "ok",
     "timestamp": 1680504332128,
     "user": {
      "displayName": "MAYUR PIMPUDE",
      "userId": "00121476714913678682"
     },
     "user_tz": -330
    },
    "id": "ew42H7f8dvtd",
    "outputId": "36ebb78d-913c-49f8-c637-52354d1489b5"
   },
   "outputs": [
    {
     "name": "stdout",
     "output_type": "stream",
     "text": [
      "Activation: 0\n",
      "Activation: 0\n",
      "Activation: 0\n",
      "Activation: 0\n",
      "Activation: 0\n",
      "Activation: 0\n",
      "Activation: 0\n",
      "Activation: 1\n"
     ]
    }
   ],
   "source": [
    "T = 3\n",
    "for i in range(0,8):\n",
    "    activation = linear_threshold_gate(dot_products[i], T)\n",
    "    print(f'Activation: {activation}')"
   ]
  },
  {
   "cell_type": "markdown",
   "metadata": {
    "id": "z_oE448cfR41"
   },
   "source": [
    "# Tautology"
   ]
  },
  {
   "cell_type": "code",
   "execution_count": 13,
   "metadata": {
    "colab": {
     "base_uri": "https://localhost:8080/"
    },
    "executionInfo": {
     "elapsed": 2,
     "status": "ok",
     "timestamp": 1678335993897,
     "user": {
      "displayName": "MAYUR PIMPUDE",
      "userId": "00121476714913678682"
     },
     "user_tz": -330
    },
    "id": "qdYTILCgfOPV",
    "outputId": "93ad8293-66bd-46bf-8cda-40fb4ddb4bc8"
   },
   "outputs": [
    {
     "name": "stdout",
     "output_type": "stream",
     "text": [
      "Activation: 1\n",
      "Activation: 1\n",
      "Activation: 1\n",
      "Activation: 1\n",
      "Activation: 1\n",
      "Activation: 1\n",
      "Activation: 1\n",
      "Activation: 1\n"
     ]
    }
   ],
   "source": [
    "T = 0\n",
    "for i in range(0,8):\n",
    "    activation = linear_threshold_gate(dot_products[i], T)\n",
    "    print(f'Activation: {activation}')"
   ]
  },
  {
   "cell_type": "markdown",
   "metadata": {
    "id": "u-1lYwe1gtdf"
   },
   "source": [
    "# NOT"
   ]
  },
  {
   "cell_type": "code",
   "execution_count": 14,
   "metadata": {
    "colab": {
     "base_uri": "https://localhost:8080/"
    },
    "executionInfo": {
     "elapsed": 403,
     "status": "ok",
     "timestamp": 1678334481850,
     "user": {
      "displayName": "MAYUR PIMPUDE",
      "userId": "00121476714913678682"
     },
     "user_tz": -330
    },
    "id": "zTn89GuMhAtu",
    "outputId": "5fcd86c5-3af9-4227-89d5-a4e19246d3f4"
   },
   "outputs": [
    {
     "name": "stdout",
     "output_type": "stream",
     "text": [
      "input table:\n",
      "[[0 0 0]\n",
      " [0 0 1]\n",
      " [0 1 0]\n",
      " [0 1 1]\n",
      " [1 0 0]\n",
      " [1 0 1]\n",
      " [1 1 0]\n",
      " [1 1 1]]\n"
     ]
    }
   ],
   "source": [
    "input_table1 = np.array([\n",
    "    [0], # both no\n",
    "    [0], # one no, one yes\n",
    "    [1], # one yes, one no\n",
    "    [1]  # bot yes\n",
    "])\n",
    "\n",
    "print(f'input table:\\n{input_table}')"
   ]
  },
  {
   "cell_type": "code",
   "execution_count": 15,
   "metadata": {
    "colab": {
     "base_uri": "https://localhost:8080/"
    },
    "executionInfo": {
     "elapsed": 2,
     "status": "ok",
     "timestamp": 1678334482289,
     "user": {
      "displayName": "MAYUR PIMPUDE",
      "userId": "00121476714913678682"
     },
     "user_tz": -330
    },
    "id": "lmAqCdTTef0X",
    "outputId": "7a4f4333-b1a9-44b1-f808-b6e6147b32bc"
   },
   "outputs": [
    {
     "name": "stdout",
     "output_type": "stream",
     "text": [
      "weights: [-1]\n"
     ]
    }
   ],
   "source": [
    "weights = np.array([-1])\n",
    "print(f'weights: {weights}')"
   ]
  },
  {
   "cell_type": "code",
   "execution_count": 16,
   "metadata": {
    "colab": {
     "base_uri": "https://localhost:8080/"
    },
    "executionInfo": {
     "elapsed": 1,
     "status": "ok",
     "timestamp": 1678334482770,
     "user": {
      "displayName": "MAYUR PIMPUDE",
      "userId": "00121476714913678682"
     },
     "user_tz": -330
    },
    "id": "mgF62TFSgeuX",
    "outputId": "4c1e803e-0b39-4d3f-e2fb-e03a78906759"
   },
   "outputs": [
    {
     "name": "stdout",
     "output_type": "stream",
     "text": [
      "Dot products: [ 0  0 -1 -1]\n"
     ]
    }
   ],
   "source": [
    "dot_products = input_table1 @ weights\n",
    "print(f'Dot products: {dot_products}')"
   ]
  },
  {
   "cell_type": "code",
   "execution_count": 17,
   "metadata": {
    "colab": {
     "base_uri": "https://localhost:8080/"
    },
    "executionInfo": {
     "elapsed": 1,
     "status": "ok",
     "timestamp": 1678334483801,
     "user": {
      "displayName": "MAYUR PIMPUDE",
      "userId": "00121476714913678682"
     },
     "user_tz": -330
    },
    "id": "ta6xmta2gj53",
    "outputId": "c7350b9d-98af-4eaf-f3c9-e3cc2768c87d"
   },
   "outputs": [
    {
     "name": "stdout",
     "output_type": "stream",
     "text": [
      "Activation: 1\n",
      "Activation: 1\n",
      "Activation: 0\n",
      "Activation: 0\n"
     ]
    }
   ],
   "source": [
    "T = 0\n",
    "for i in range(0,4):\n",
    "    activation = linear_threshold_gate(dot_products[i], T)\n",
    "    print(f'Activation: {activation}')"
   ]
  },
  {
   "cell_type": "markdown",
   "metadata": {
    "id": "3eRuPZwdirY-"
   },
   "source": [
    "# NOTAND"
   ]
  },
  {
   "cell_type": "code",
   "execution_count": 18,
   "metadata": {
    "colab": {
     "base_uri": "https://localhost:8080/",
     "height": 0
    },
    "executionInfo": {
     "elapsed": 647,
     "status": "ok",
     "timestamp": 1680675333517,
     "user": {
      "displayName": "MAYUR PIMPUDE",
      "userId": "00121476714913678682"
     },
     "user_tz": -330
    },
    "id": "pS99O8KQigcP",
    "outputId": "965ea393-a7dd-4d2d-9bd1-35746ded7761"
   },
   "outputs": [
    {
     "name": "stdout",
     "output_type": "stream",
     "text": [
      "weights: [1 1 1]\n"
     ]
    }
   ],
   "source": [
    "weights = np.array([1,1,1])\n",
    "print(f'weights: {weights}')"
   ]
  },
  {
   "cell_type": "code",
   "execution_count": 19,
   "metadata": {
    "colab": {
     "base_uri": "https://localhost:8080/"
    },
    "executionInfo": {
     "elapsed": 4,
     "status": "ok",
     "timestamp": 1678337270264,
     "user": {
      "displayName": "MAYUR PIMPUDE",
      "userId": "00121476714913678682"
     },
     "user_tz": -330
    },
    "id": "Chuh3Gmmj0-I",
    "outputId": "3bd01b2a-23ec-480b-dd04-f12414f8115b"
   },
   "outputs": [
    {
     "name": "stdout",
     "output_type": "stream",
     "text": [
      "Dot products: [0 1 1 2 1 2 2 3]\n"
     ]
    }
   ],
   "source": [
    "dot_products = input_table @ weights\n",
    "print(f'Dot products: {dot_products}')"
   ]
  },
  {
   "cell_type": "code",
   "execution_count": 20,
   "metadata": {
    "colab": {
     "base_uri": "https://localhost:8080/"
    },
    "executionInfo": {
     "elapsed": 3,
     "status": "ok",
     "timestamp": 1678337309245,
     "user": {
      "displayName": "MAYUR PIMPUDE",
      "userId": "00121476714913678682"
     },
     "user_tz": -330
    },
    "id": "689GLfEekcBv",
    "outputId": "efca3312-c21c-4085-dcda-45b0cc244f6b"
   },
   "outputs": [
    {
     "name": "stdout",
     "output_type": "stream",
     "text": [
      "Activation: 0\n",
      "Activation: 1\n",
      "Activation: 1\n",
      "Activation: 1\n",
      "Activation: 1\n",
      "Activation: 1\n",
      "Activation: 1\n",
      "Activation: 1\n"
     ]
    }
   ],
   "source": [
    "T = 1\n",
    "for i in range(0,8):\n",
    "    activation = linear_threshold_gate(dot_products[i], T)\n",
    "    print(f'Activation: {activation}')"
   ]
  },
  {
   "cell_type": "code",
   "execution_count": 21,
   "metadata": {
    "id": "z4Pbwjl0kdck"
   },
   "outputs": [
    {
     "ename": "SyntaxError",
     "evalue": "invalid syntax (525519296.py, line 1)",
     "output_type": "error",
     "traceback": [
      "\u001b[1;36m  Cell \u001b[1;32mIn[21], line 1\u001b[1;36m\u001b[0m\n\u001b[1;33m    |\u001b[0m\n\u001b[1;37m    ^\u001b[0m\n\u001b[1;31mSyntaxError\u001b[0m\u001b[1;31m:\u001b[0m invalid syntax\n"
     ]
    }
   ],
   "source": []
  },
  {
   "cell_type": "code",
   "execution_count": null,
   "metadata": {},
   "outputs": [],
   "source": []
  },
  {
   "cell_type": "code",
   "execution_count": null,
   "metadata": {},
   "outputs": [],
   "source": []
  },
  {
   "cell_type": "code",
   "execution_count": null,
   "metadata": {},
   "outputs": [],
   "source": []
  }
 ],
 "metadata": {
  "colab": {
   "authorship_tag": "ABX9TyPSqs+GpkNPkcsZYZKQ1zXo",
   "provenance": [
    {
     "file_id": "1WkX-fKy9p78o_zjv5A91VAaUysCPek0e",
     "timestamp": 1678335297079
    }
   ]
  },
  "kernelspec": {
   "display_name": "Python 3 (ipykernel)",
   "language": "python",
   "name": "python3"
  },
  "language_info": {
   "codemirror_mode": {
    "name": "ipython",
    "version": 3
   },
   "file_extension": ".py",
   "mimetype": "text/x-python",
   "name": "python",
   "nbconvert_exporter": "python",
   "pygments_lexer": "ipython3",
   "version": "3.10.9"
  }
 },
 "nbformat": 4,
 "nbformat_minor": 1
}
