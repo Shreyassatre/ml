{
 "cells": [
  {
   "cell_type": "code",
   "execution_count": 1,
   "metadata": {
    "id": "CtHbAJ4bH9tW"
   },
   "outputs": [],
   "source": [
    "def hebbian_learning(samples):\n",
    "     print(f'{\"INPUT\":^8} {\"TARGET\":^16}{\"WEIGHT CHANGES\":^15}{\"WEIGHTS\":^25}')\n",
    "     w1, w2, b = 0, 0, 0\n",
    "     print(' ' * 45, f'({w1:2}, {w2:2}, {b:2})')\n",
    "     for x1, x2, y in samples:\n",
    "         w1 = w1 + x1 * y\n",
    "         w2 = w2 + x2 * y\n",
    "         b = b + y\n",
    "         print(f'({x1:2}, {x2:2})       {y:2}         ({x1*y:2}, {x2*y:2}, {y:2})        ({w1:2}, {w2:2}, {b:2})')"
   ]
  },
  {
   "cell_type": "code",
   "execution_count": 2,
   "metadata": {
    "id": "Wrd8BNX2ICDA"
   },
   "outputs": [],
   "source": [
    "AND_samples = {\n",
    "    'binary_input_binary_output': [\n",
    "        [1, 1, 1],\n",
    "        [1, 0, 0],\n",
    "        [0, 1, 0],\n",
    "        [0, 0, 0]\n",
    "    ],\n",
    "    'binary_input_bipolar_output': [\n",
    "        [1, 1, 1],\n",
    "        [1, 0, -1],\n",
    "        [0, 1, -1],\n",
    "        [0, 0, -1]\n",
    "    ],\n",
    "    'bipolar_input_bipolar_output': [\n",
    "        [ 1, 1, 1],\n",
    "        [ 1, -1, -1],\n",
    "        [-1, 1, -1],\n",
    "        [-1, -1, -1]\n",
    "    ]\n",
    "}\n",
    "\n",
    "OR_samples = {\n",
    "    'binary_input_binary_output': [\n",
    "        [1, 1, 1],\n",
    "        [1, 0, 1],\n",
    "        [0, 1, 1],\n",
    "        [0, 0, 0]\n",
    "    ],\n",
    "    'binary_input_bipolar_output': [\n",
    "        [1, 1, 1],\n",
    "        [1, 0, 1],\n",
    "        [0, 1, 1],\n",
    "        [0, 0, -1]\n",
    "    ],\n",
    "    'bipolar_input_bipolar_output': [\n",
    "        [ 1, 1, 1],\n",
    "        [ 1, -1, 1],\n",
    "        [-1, 1, 1],\n",
    "        [-1, -1, -1]\n",
    "    ]\n",
    "}\n",
    "XOR_samples = {\n",
    "    'binary_input_binary_output': [\n",
    "        [1, 1, 0],\n",
    "        [1, 0, 1],\n",
    "        [0, 1, 1],\n",
    "        [0, 0, 0]\n",
    "    ],\n",
    "    'binary_input_bipolar_output': [\n",
    "        [1, 1, -1],\n",
    "        [1, 0, 1],\n",
    "        [0, 1, 1],\n",
    "        [0, 0, -1]\n",
    "    ],\n",
    "    'bipolar_input_bipolar_output': [\n",
    "        [ 1, 1, -1],\n",
    "        [ 1, -1, 1],\n",
    "        [-1, 1, 1],\n",
    "        [-1, -1, -1]\n",
    "    ]\n",
    "}"
   ]
  },
  {
   "cell_type": "code",
   "execution_count": 3,
   "metadata": {
    "colab": {
     "base_uri": "https://localhost:8080/"
    },
    "id": "EnV-LO8hIPXt",
    "outputId": "729b7bcd-9965-4642-9091-519b79fbdf20"
   },
   "outputs": [
    {
     "name": "stdout",
     "output_type": "stream",
     "text": [
      "AND with Binary Input and Binary Output\n",
      "\n",
      " INPUT        TARGET     WEIGHT CHANGES          WEIGHTS         \n",
      "                                              ( 0,  0,  0)\n",
      "( 1,  1)        1         ( 1,  1,  1)        ( 1,  1,  1)\n",
      "( 1,  0)        0         ( 0,  0,  0)        ( 1,  1,  1)\n",
      "( 0,  1)        0         ( 0,  0,  0)        ( 1,  1,  1)\n",
      "( 0,  0)        0         ( 0,  0,  0)        ( 1,  1,  1)\n",
      "\n",
      "AND with Binary Input and Bipolar Output\n",
      "\n",
      " INPUT        TARGET     WEIGHT CHANGES          WEIGHTS         \n",
      "                                              ( 0,  0,  0)\n",
      "( 1,  1)        1         ( 1,  1,  1)        ( 1,  1,  1)\n",
      "( 1,  0)       -1         (-1,  0, -1)        ( 0,  1,  0)\n",
      "( 0,  1)       -1         ( 0, -1, -1)        ( 0,  0, -1)\n",
      "( 0,  0)       -1         ( 0,  0, -1)        ( 0,  0, -2)\n",
      "\n",
      "AND with Bipolar Input and Bipolar Output\n",
      "\n",
      " INPUT        TARGET     WEIGHT CHANGES          WEIGHTS         \n",
      "                                              ( 0,  0,  0)\n",
      "( 1,  1)        1         ( 1,  1,  1)        ( 1,  1,  1)\n",
      "( 1, -1)       -1         (-1,  1, -1)        ( 0,  2,  0)\n",
      "(-1,  1)       -1         ( 1, -1, -1)        ( 1,  1, -1)\n",
      "(-1, -1)       -1         ( 1,  1, -1)        ( 2,  2, -2)\n"
     ]
    }
   ],
   "source": [
    "print('AND with Binary Input and Binary Output\\n')\n",
    "hebbian_learning(AND_samples['binary_input_binary_output'])\n",
    "\n",
    "print('\\nAND with Binary Input and Bipolar Output\\n')\n",
    "hebbian_learning(AND_samples['binary_input_bipolar_output'])\n",
    "\n",
    "print('\\nAND with Bipolar Input and Bipolar Output\\n')\n",
    "hebbian_learning(AND_samples['bipolar_input_bipolar_output'])"
   ]
  },
  {
   "cell_type": "code",
   "execution_count": 4,
   "metadata": {
    "colab": {
     "base_uri": "https://localhost:8080/"
    },
    "id": "UyfysMdPISY2",
    "outputId": "93cb11d5-8532-4634-9bf0-79cc7f180cc9"
   },
   "outputs": [
    {
     "name": "stdout",
     "output_type": "stream",
     "text": [
      "OR with binary input and binary output\n",
      "\n",
      " INPUT        TARGET     WEIGHT CHANGES          WEIGHTS         \n",
      "                                              ( 0,  0,  0)\n",
      "( 1,  1)        1         ( 1,  1,  1)        ( 1,  1,  1)\n",
      "( 1,  0)        1         ( 1,  0,  1)        ( 2,  1,  2)\n",
      "( 0,  1)        1         ( 0,  1,  1)        ( 2,  2,  3)\n",
      "( 0,  0)        0         ( 0,  0,  0)        ( 2,  2,  3)\n",
      "\n",
      "OR with binary input and bipolar output\n",
      "\n",
      " INPUT        TARGET     WEIGHT CHANGES          WEIGHTS         \n",
      "                                              ( 0,  0,  0)\n",
      "( 1,  1)        1         ( 1,  1,  1)        ( 1,  1,  1)\n",
      "( 1,  0)        1         ( 1,  0,  1)        ( 2,  1,  2)\n",
      "( 0,  1)        1         ( 0,  1,  1)        ( 2,  2,  3)\n",
      "( 0,  0)       -1         ( 0,  0, -1)        ( 2,  2,  2)\n",
      "\n",
      "OR with bipolar input and bipolar output\n",
      "\n",
      " INPUT        TARGET     WEIGHT CHANGES          WEIGHTS         \n",
      "                                              ( 0,  0,  0)\n",
      "( 1,  1)        1         ( 1,  1,  1)        ( 1,  1,  1)\n",
      "( 1, -1)        1         ( 1, -1,  1)        ( 2,  0,  2)\n",
      "(-1,  1)        1         (-1,  1,  1)        ( 1,  1,  3)\n",
      "(-1, -1)       -1         ( 1,  1, -1)        ( 2,  2,  2)\n"
     ]
    }
   ],
   "source": [
    "print('OR with binary input and binary output\\n')\n",
    "hebbian_learning(OR_samples['binary_input_binary_output'])\n",
    "\n",
    "print('\\nOR with binary input and bipolar output\\n')\n",
    "hebbian_learning(OR_samples['binary_input_bipolar_output'])\n",
    "\n",
    "print('\\nOR with bipolar input and bipolar output\\n')\n",
    "hebbian_learning(OR_samples['bipolar_input_bipolar_output'])"
   ]
  },
  {
   "cell_type": "code",
   "execution_count": null,
   "metadata": {
    "id": "5848mlY1UlVz"
   },
   "outputs": [],
   "source": []
  },
  {
   "cell_type": "code",
   "execution_count": 5,
   "metadata": {
    "colab": {
     "base_uri": "https://localhost:8080/"
    },
    "id": "8FNYT9svM-by",
    "outputId": "7a221c5d-9f18-43f5-9fcc-81763c664d51"
   },
   "outputs": [
    {
     "name": "stdout",
     "output_type": "stream",
     "text": [
      "XOR with binary input and binary output\n",
      "\n",
      " INPUT        TARGET     WEIGHT CHANGES          WEIGHTS         \n",
      "                                              ( 0,  0,  0)\n",
      "( 1,  1)        0         ( 0,  0,  0)        ( 0,  0,  0)\n",
      "( 1,  0)        1         ( 1,  0,  1)        ( 1,  0,  1)\n",
      "( 0,  1)        1         ( 0,  1,  1)        ( 1,  1,  2)\n",
      "( 0,  0)        0         ( 0,  0,  0)        ( 1,  1,  2)\n",
      "\n",
      "XOR with binary input and bipolar output\n",
      "\n",
      " INPUT        TARGET     WEIGHT CHANGES          WEIGHTS         \n",
      "                                              ( 0,  0,  0)\n",
      "( 1,  1)       -1         (-1, -1, -1)        (-1, -1, -1)\n",
      "( 1,  0)        1         ( 1,  0,  1)        ( 0, -1,  0)\n",
      "( 0,  1)        1         ( 0,  1,  1)        ( 0,  0,  1)\n",
      "( 0,  0)       -1         ( 0,  0, -1)        ( 0,  0,  0)\n",
      "\n",
      "XOR with bipolar input and bipolar output\n",
      "\n",
      " INPUT        TARGET     WEIGHT CHANGES          WEIGHTS         \n",
      "                                              ( 0,  0,  0)\n",
      "( 1,  1)       -1         (-1, -1, -1)        (-1, -1, -1)\n",
      "( 1, -1)        1         ( 1, -1,  1)        ( 0, -2,  0)\n",
      "(-1,  1)        1         (-1,  1,  1)        (-1, -1,  1)\n",
      "(-1, -1)       -1         ( 1,  1, -1)        ( 0,  0,  0)\n"
     ]
    }
   ],
   "source": [
    "print('XOR with binary input and binary output\\n')\n",
    "hebbian_learning(XOR_samples['binary_input_binary_output'])\n",
    "\n",
    "print('\\nXOR with binary input and bipolar output\\n')\n",
    "hebbian_learning(XOR_samples['binary_input_bipolar_output'])\n",
    "\n",
    "print('\\nXOR with bipolar input and bipolar output\\n')\n",
    "hebbian_learning(XOR_samples['bipolar_input_bipolar_output'])"
   ]
  },
  {
   "cell_type": "code",
   "execution_count": null,
   "metadata": {
    "id": "bl5evhNENYSn"
   },
   "outputs": [],
   "source": []
  },
  {
   "cell_type": "code",
   "execution_count": null,
   "metadata": {},
   "outputs": [],
   "source": []
  }
 ],
 "metadata": {
  "colab": {
   "provenance": []
  },
  "kernelspec": {
   "display_name": "Python 3 (ipykernel)",
   "language": "python",
   "name": "python3"
  },
  "language_info": {
   "codemirror_mode": {
    "name": "ipython",
    "version": 3
   },
   "file_extension": ".py",
   "mimetype": "text/x-python",
   "name": "python",
   "nbconvert_exporter": "python",
   "pygments_lexer": "ipython3",
   "version": "3.10.9"
  }
 },
 "nbformat": 4,
 "nbformat_minor": 1
}
